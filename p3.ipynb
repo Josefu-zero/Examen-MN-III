{
 "cells": [
  {
   "cell_type": "markdown",
   "id": "42acc49d",
   "metadata": {},
   "source": [
    "Usando los métodos estudiados, determine todas las raíces de la ecuación:\n",
    "\n",
    "$$x5−34.5∗x4+384.5∗x3−1559∗x2+2646∗x−1612=0.$$"
   ]
  },
  {
   "cell_type": "code",
   "execution_count": 6,
   "id": "3ff15327",
   "metadata": {},
   "outputs": [
    {
     "data": {
      "image/png": "[encoded data removed]",
      "text/plain": [
       "<Figure size 640x480 with 1 Axes>"
      ]
     },
     "metadata": {},
     "output_type": "display_data"
    }
   ],
   "source": [
    "from scipy.optimize import bisect\n",
    "import matplotlib.pyplot as plt\n",
    "import numpy as np\n",
    "\n",
    "def funcion(x: float):\n",
    "    return x**5 - 34.5*x**4 + 384.5*x**3 - 1559*x**2 + 2646*x - 1612\n",
    "\n",
    "x = np.linspace(-50, 50, 100)\n",
    "\n",
    "plt.plot(x , [funcion(i) for i in x])\n",
    "plt.xlim(-0, 20)\n",
    "plt.ylim(-0.2, 1)\n",
    "plt.axhline(0, color='gray', linewidth=0.8)\n",
    "plt.axvline(0, color='gray', linewidth=0.8)\n",
    "plt.show()"
   ]
  },
  {
   "cell_type": "code",
   "execution_count": 9,
   "id": "6898ac78",
   "metadata": {},
   "outputs": [
    {
     "name": "stdout",
     "output_type": "stream",
     "text": [
      "2.0\n",
      "13.0\n",
      "15.5\n"
     ]
    }
   ],
   "source": [
    "# Raiz 1\n",
    "root = bisect(f = funcion, a = 0, b = 2)\n",
    "print(root)\n",
    "\n",
    "# Raiz 2\n",
    "root2 = bisect(f = funcion, a = 12.5, b =14.5)\n",
    "print(root2)\n",
    "\n",
    "#  Raiz 3\n",
    "root3 = bisect(f = funcion, a = 15, b = 16)\n",
    "print(root3)"
   ]
  },
  {
   "cell_type": "code",
   "execution_count": null,
   "id": "746db9dc",
   "metadata": {},
   "outputs": [],
   "source": []
  },
  {
   "cell_type": "code",
   "execution_count": null,
   "id": "516cd2a0",
   "metadata": {},
   "outputs": [],
   "source": []
  }
 ],
 "metadata": {
  "kernelspec": {
   "display_name": "Python 3",
   "language": "python",
   "name": "python3"
  },
  "language_info": {
   "codemirror_mode": {
    "name": "ipython",
    "version": 3
   },
   "file_extension": ".py",
   "mimetype": "text/x-python",
   "name": "python",
   "nbconvert_exporter": "python",
   "pygments_lexer": "ipython3",
   "version": "3.13.5"
  }
 },
 "nbformat": 4,
 "nbformat_minor": 5
}
